{
 "cells": [
  {
   "cell_type": "code",
   "execution_count": 2,
   "id": "4582bedb",
   "metadata": {},
   "outputs": [],
   "source": [
    "#Import Libraries\n",
    "import pandas as pd\n",
    "import sqlite3"
   ]
  },
  {
   "cell_type": "markdown",
   "id": "0e5a860a",
   "metadata": {},
   "source": [
    "### Load Transformed Data"
   ]
  },
  {
   "cell_type": "code",
   "execution_count": 3,
   "id": "2c0781fc",
   "metadata": {},
   "outputs": [],
   "source": [
    "# Read cleaned CSVs\n",
    "df_full = pd.read_csv('transformed/transformed_full.csv')\n",
    "df_inc  = pd.read_csv('transformed/transformed_incremental.csv')"
   ]
  },
  {
   "cell_type": "markdown",
   "id": "7aafc883",
   "metadata": {},
   "source": [
    "## Connect to SQLite"
   ]
  },
  {
   "cell_type": "markdown",
   "id": "fd3eadb1",
   "metadata": {},
   "source": [
    "### Transformed raw data to SQLite DB"
   ]
  },
  {
   "cell_type": "code",
   "execution_count": 4,
   "id": "ead83ff3",
   "metadata": {},
   "outputs": [],
   "source": [
    "conn = sqlite3.connect('loaded/full_data.db')\n",
    "df_full.to_sql('full_data', conn, if_exists='replace', index=False)\n",
    "conn.close()\n"
   ]
  },
  {
   "cell_type": "code",
   "execution_count": null,
   "id": "443c52ee",
   "metadata": {},
   "outputs": [
    {
     "data": {
      "application/vnd.microsoft.datawrangler.viewer.v0+json": {
       "columns": [
        {
         "name": "index",
         "rawType": "int64",
         "type": "integer"
        },
        {
         "name": "order_id",
         "rawType": "int64",
         "type": "integer"
        },
        {
         "name": "customer_name",
         "rawType": "object",
         "type": "string"
        },
        {
         "name": "product",
         "rawType": "object",
         "type": "string"
        },
        {
         "name": "quantity",
         "rawType": "float64",
         "type": "float"
        },
        {
         "name": "unit_price",
         "rawType": "float64",
         "type": "float"
        },
        {
         "name": "order_date",
         "rawType": "object",
         "type": "string"
        },
        {
         "name": "region",
         "rawType": "object",
         "type": "string"
        },
        {
         "name": "total_price",
         "rawType": "float64",
         "type": "float"
        },
        {
         "name": "price_tier",
         "rawType": "object",
         "type": "string"
        }
       ],
       "ref": "30e13f01-3ac6-439e-83ed-9e2df80d16e8",
       "rows": [
        [
         "0",
         "86",
         "Diana",
         "Tablet",
         "2.0",
         "500.0",
         "2024-01-02",
         "South",
         "1000.0",
         "Medium"
        ],
        [
         "1",
         "37",
         "Frank",
         "Monitor",
         "2.0",
         "750.0",
         "2024-01-04",
         "East",
         "1500.0",
         "High"
        ],
        [
         "2",
         "48",
         "Diana",
         "Tablet",
         "2.0",
         "500.0",
         "2024-01-06",
         "South",
         "1000.0",
         "Medium"
        ],
        [
         "3",
         "4",
         "Eve",
         "Laptop",
         "2.0",
         "750.0",
         "2024-01-07",
         "West",
         "1500.0",
         "High"
        ],
        [
         "4",
         "6",
         "Eve",
         "Laptop",
         "2.0",
         "750.0",
         "2024-01-07",
         "West",
         "1500.0",
         "High"
        ]
       ],
       "shape": {
        "columns": 9,
        "rows": 5
       }
      },
      "text/html": [
       "<div>\n",
       "<style scoped>\n",
       "    .dataframe tbody tr th:only-of-type {\n",
       "        vertical-align: middle;\n",
       "    }\n",
       "\n",
       "    .dataframe tbody tr th {\n",
       "        vertical-align: top;\n",
       "    }\n",
       "\n",
       "    .dataframe thead th {\n",
       "        text-align: right;\n",
       "    }\n",
       "</style>\n",
       "<table border=\"1\" class=\"dataframe\">\n",
       "  <thead>\n",
       "    <tr style=\"text-align: right;\">\n",
       "      <th></th>\n",
       "      <th>order_id</th>\n",
       "      <th>customer_name</th>\n",
       "      <th>product</th>\n",
       "      <th>quantity</th>\n",
       "      <th>unit_price</th>\n",
       "      <th>order_date</th>\n",
       "      <th>region</th>\n",
       "      <th>total_price</th>\n",
       "      <th>price_tier</th>\n",
       "    </tr>\n",
       "  </thead>\n",
       "  <tbody>\n",
       "    <tr>\n",
       "      <th>0</th>\n",
       "      <td>86</td>\n",
       "      <td>Diana</td>\n",
       "      <td>Tablet</td>\n",
       "      <td>2.0</td>\n",
       "      <td>500.0</td>\n",
       "      <td>2024-01-02</td>\n",
       "      <td>South</td>\n",
       "      <td>1000.0</td>\n",
       "      <td>Medium</td>\n",
       "    </tr>\n",
       "    <tr>\n",
       "      <th>1</th>\n",
       "      <td>37</td>\n",
       "      <td>Frank</td>\n",
       "      <td>Monitor</td>\n",
       "      <td>2.0</td>\n",
       "      <td>750.0</td>\n",
       "      <td>2024-01-04</td>\n",
       "      <td>East</td>\n",
       "      <td>1500.0</td>\n",
       "      <td>High</td>\n",
       "    </tr>\n",
       "    <tr>\n",
       "      <th>2</th>\n",
       "      <td>48</td>\n",
       "      <td>Diana</td>\n",
       "      <td>Tablet</td>\n",
       "      <td>2.0</td>\n",
       "      <td>500.0</td>\n",
       "      <td>2024-01-06</td>\n",
       "      <td>South</td>\n",
       "      <td>1000.0</td>\n",
       "      <td>Medium</td>\n",
       "    </tr>\n",
       "    <tr>\n",
       "      <th>3</th>\n",
       "      <td>4</td>\n",
       "      <td>Eve</td>\n",
       "      <td>Laptop</td>\n",
       "      <td>2.0</td>\n",
       "      <td>750.0</td>\n",
       "      <td>2024-01-07</td>\n",
       "      <td>West</td>\n",
       "      <td>1500.0</td>\n",
       "      <td>High</td>\n",
       "    </tr>\n",
       "    <tr>\n",
       "      <th>4</th>\n",
       "      <td>6</td>\n",
       "      <td>Eve</td>\n",
       "      <td>Laptop</td>\n",
       "      <td>2.0</td>\n",
       "      <td>750.0</td>\n",
       "      <td>2024-01-07</td>\n",
       "      <td>West</td>\n",
       "      <td>1500.0</td>\n",
       "      <td>High</td>\n",
       "    </tr>\n",
       "  </tbody>\n",
       "</table>\n",
       "</div>"
      ],
      "text/plain": [
       "   order_id customer_name  product  quantity  unit_price  order_date region  \\\n",
       "0        86         Diana   Tablet       2.0       500.0  2024-01-02  South   \n",
       "1        37         Frank  Monitor       2.0       750.0  2024-01-04   East   \n",
       "2        48         Diana   Tablet       2.0       500.0  2024-01-06  South   \n",
       "3         4           Eve   Laptop       2.0       750.0  2024-01-07   West   \n",
       "4         6           Eve   Laptop       2.0       750.0  2024-01-07   West   \n",
       "\n",
       "   total_price price_tier  \n",
       "0       1000.0     Medium  \n",
       "1       1500.0       High  \n",
       "2       1000.0     Medium  \n",
       "3       1500.0       High  \n",
       "4       1500.0       High  "
      ]
     },
     "execution_count": 6,
     "metadata": {},
     "output_type": "execute_result"
    }
   ],
   "source": [
    "# Verify\n",
    "conn = sqlite3.connect('loaded/full_data.db')\n",
    "pd.read_sql('SELECT * FROM full_data LIMIT 5', conn)\n"
   ]
  },
  {
   "cell_type": "markdown",
   "id": "26a9f396",
   "metadata": {},
   "source": [
    "### Inremental data to SQLite DB"
   ]
  },
  {
   "cell_type": "code",
   "execution_count": 9,
   "id": "cbc047c9",
   "metadata": {},
   "outputs": [],
   "source": [
    "conn = sqlite3.connect('loaded/incremental_data.db')\n",
    "df_inc.to_sql('full_data', conn, if_exists='replace', index=False)\n",
    "conn.close()"
   ]
  },
  {
   "cell_type": "code",
   "execution_count": 10,
   "id": "d9debd27",
   "metadata": {},
   "outputs": [
    {
     "data": {
      "application/vnd.microsoft.datawrangler.viewer.v0+json": {
       "columns": [
        {
         "name": "index",
         "rawType": "int64",
         "type": "integer"
        },
        {
         "name": "order_id",
         "rawType": "int64",
         "type": "integer"
        },
        {
         "name": "customer_name",
         "rawType": "object",
         "type": "string"
        },
        {
         "name": "product",
         "rawType": "object",
         "type": "string"
        },
        {
         "name": "quantity",
         "rawType": "float64",
         "type": "float"
        },
        {
         "name": "unit_price",
         "rawType": "float64",
         "type": "float"
        },
        {
         "name": "order_date",
         "rawType": "object",
         "type": "string"
        },
        {
         "name": "region",
         "rawType": "object",
         "type": "string"
        },
        {
         "name": "total_price",
         "rawType": "float64",
         "type": "float"
        },
        {
         "name": "price_tier",
         "rawType": "object",
         "type": "string"
        }
       ],
       "ref": "fa51ec08-ce99-4c26-a74b-dc315cdf0f94",
       "rows": [
        [
         "0",
         "3",
         "Unknown",
         "Laptop",
         "1.0",
         "600.0",
         "2024-05-04",
         "Central",
         "600.0",
         "Medium"
        ],
        [
         "1",
         "2",
         "Unknown",
         "Laptop",
         "1.0",
         "300.0",
         "2024-05-07",
         "Central",
         "300.0",
         "Low"
        ],
        [
         "2",
         "1",
         "Alice",
         "Laptop",
         "1.5",
         "900.0",
         "2024-05-09",
         "Central",
         "1350.0",
         "High"
        ],
        [
         "3",
         "8",
         "Unknown",
         "Laptop",
         "1.5",
         "600.0",
         "2024-05-11",
         "Central",
         "900.0",
         "Medium"
        ],
        [
         "4",
         "7",
         "Unknown",
         "Tablet",
         "1.0",
         "600.0",
         "2024-05-13",
         "Central",
         "600.0",
         "Medium"
        ]
       ],
       "shape": {
        "columns": 9,
        "rows": 5
       }
      },
      "text/html": [
       "<div>\n",
       "<style scoped>\n",
       "    .dataframe tbody tr th:only-of-type {\n",
       "        vertical-align: middle;\n",
       "    }\n",
       "\n",
       "    .dataframe tbody tr th {\n",
       "        vertical-align: top;\n",
       "    }\n",
       "\n",
       "    .dataframe thead th {\n",
       "        text-align: right;\n",
       "    }\n",
       "</style>\n",
       "<table border=\"1\" class=\"dataframe\">\n",
       "  <thead>\n",
       "    <tr style=\"text-align: right;\">\n",
       "      <th></th>\n",
       "      <th>order_id</th>\n",
       "      <th>customer_name</th>\n",
       "      <th>product</th>\n",
       "      <th>quantity</th>\n",
       "      <th>unit_price</th>\n",
       "      <th>order_date</th>\n",
       "      <th>region</th>\n",
       "      <th>total_price</th>\n",
       "      <th>price_tier</th>\n",
       "    </tr>\n",
       "  </thead>\n",
       "  <tbody>\n",
       "    <tr>\n",
       "      <th>0</th>\n",
       "      <td>3</td>\n",
       "      <td>Unknown</td>\n",
       "      <td>Laptop</td>\n",
       "      <td>1.0</td>\n",
       "      <td>600.0</td>\n",
       "      <td>2024-05-04</td>\n",
       "      <td>Central</td>\n",
       "      <td>600.0</td>\n",
       "      <td>Medium</td>\n",
       "    </tr>\n",
       "    <tr>\n",
       "      <th>1</th>\n",
       "      <td>2</td>\n",
       "      <td>Unknown</td>\n",
       "      <td>Laptop</td>\n",
       "      <td>1.0</td>\n",
       "      <td>300.0</td>\n",
       "      <td>2024-05-07</td>\n",
       "      <td>Central</td>\n",
       "      <td>300.0</td>\n",
       "      <td>Low</td>\n",
       "    </tr>\n",
       "    <tr>\n",
       "      <th>2</th>\n",
       "      <td>1</td>\n",
       "      <td>Alice</td>\n",
       "      <td>Laptop</td>\n",
       "      <td>1.5</td>\n",
       "      <td>900.0</td>\n",
       "      <td>2024-05-09</td>\n",
       "      <td>Central</td>\n",
       "      <td>1350.0</td>\n",
       "      <td>High</td>\n",
       "    </tr>\n",
       "    <tr>\n",
       "      <th>3</th>\n",
       "      <td>8</td>\n",
       "      <td>Unknown</td>\n",
       "      <td>Laptop</td>\n",
       "      <td>1.5</td>\n",
       "      <td>600.0</td>\n",
       "      <td>2024-05-11</td>\n",
       "      <td>Central</td>\n",
       "      <td>900.0</td>\n",
       "      <td>Medium</td>\n",
       "    </tr>\n",
       "    <tr>\n",
       "      <th>4</th>\n",
       "      <td>7</td>\n",
       "      <td>Unknown</td>\n",
       "      <td>Tablet</td>\n",
       "      <td>1.0</td>\n",
       "      <td>600.0</td>\n",
       "      <td>2024-05-13</td>\n",
       "      <td>Central</td>\n",
       "      <td>600.0</td>\n",
       "      <td>Medium</td>\n",
       "    </tr>\n",
       "  </tbody>\n",
       "</table>\n",
       "</div>"
      ],
      "text/plain": [
       "   order_id customer_name product  quantity  unit_price  order_date   region  \\\n",
       "0         3       Unknown  Laptop       1.0       600.0  2024-05-04  Central   \n",
       "1         2       Unknown  Laptop       1.0       300.0  2024-05-07  Central   \n",
       "2         1         Alice  Laptop       1.5       900.0  2024-05-09  Central   \n",
       "3         8       Unknown  Laptop       1.5       600.0  2024-05-11  Central   \n",
       "4         7       Unknown  Tablet       1.0       600.0  2024-05-13  Central   \n",
       "\n",
       "   total_price price_tier  \n",
       "0        600.0     Medium  \n",
       "1        300.0        Low  \n",
       "2       1350.0       High  \n",
       "3        900.0     Medium  \n",
       "4        600.0     Medium  "
      ]
     },
     "execution_count": 10,
     "metadata": {},
     "output_type": "execute_result"
    }
   ],
   "source": [
    "# Verify\n",
    "conn = sqlite3.connect('loaded/incremental_data.db')\n",
    "pd.read_sql('SELECT * FROM full_data LIMIT 5', conn)\n"
   ]
  }
 ],
 "metadata": {
  "kernelspec": {
   "display_name": "Python 3",
   "language": "python",
   "name": "python3"
  },
  "language_info": {
   "codemirror_mode": {
    "name": "ipython",
    "version": 3
   },
   "file_extension": ".py",
   "mimetype": "text/x-python",
   "name": "python",
   "nbconvert_exporter": "python",
   "pygments_lexer": "ipython3",
   "version": "3.11.8"
  }
 },
 "nbformat": 4,
 "nbformat_minor": 5
}
