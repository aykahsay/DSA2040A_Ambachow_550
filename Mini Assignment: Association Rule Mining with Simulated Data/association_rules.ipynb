{
  "nbformat": 4,
  "nbformat_minor": 0,
  "metadata": {
    "colab": {
      "provenance": []
    },
    "kernelspec": {
      "name": "python3",
      "display_name": "Python 3"
    },
    "language_info": {
      "name": "python"
    }
  },
  "cells": [
    {
      "cell_type": "markdown",
      "source": [
        "## Mini Assignment: Association Rule Mining with Simulated Data"
      ],
      "metadata": {
        "id": "aZfnnR4vbW4U"
      }
    },
    {
      "cell_type": "markdown",
      "source": [
        "### Main Tasks\n",
        "- Simulating transactions\n",
        "- Performing Apriori\n",
        "- Generating and interpreting association rules\n",
        "- Submitting on GitHub"
      ],
      "metadata": {
        "id": "G_a6Pcgmbkzr"
      }
    },
    {
      "cell_type": "markdown",
      "source": [
        "##### Libraries"
      ],
      "metadata": {
        "id": "dSqwWJ5gbpzj"
      }
    },
    {
      "cell_type": "code",
      "source": [
        "# !pip install mlxtend"
      ],
      "metadata": {
        "id": "a2BZqzzZbtqV"
      },
      "execution_count": null,
      "outputs": []
    },
    {
      "cell_type": "code",
      "source": [
        "# Import Libraries\n",
        "import random\n",
        "import pandas as pd\n",
        "# Apriori\n",
        "from mlxtend.preprocessing import TransactionEncoder\n",
        "from mlxtend.frequent_patterns import apriori\n",
        "from mlxtend.frequent_patterns import association_rules"
      ],
      "metadata": {
        "id": "E_XGg-iabK8T"
      },
      "execution_count": 7,
      "outputs": []
    },
    {
      "cell_type": "markdown",
      "source": [
        "#### Step 1: Simulate Transaction Data"
      ],
      "metadata": {
        "id": "4kCgRuEAb3ff"
      }
    },
    {
      "cell_type": "code",
      "source": [
        "# Pool of items\n",
        "items = ['Bread', 'Milk', 'Eggs', 'Butter', 'Cheese', 'Cereal', 'Juice', 'Apples']\n",
        "\n",
        "# Generate 10 fake transactions (each with 2–5 items)\n",
        "transactions = []\n",
        "for _ in range(10):\n",
        "    transaction = random.sample(items, random.randint(2, 5))\n",
        "    transactions.append(transaction)\n",
        "\n",
        "# Show transactions\n",
        "for i, t in enumerate(transactions, 1):\n",
        "    print(f\"Transaction {i}: {t}\")\n"
      ],
      "metadata": {
        "colab": {
          "base_uri": "https://localhost:8080/"
        },
        "id": "4Z3Tkh11b-DA",
        "outputId": "dd44298f-0735-4719-a02c-d39b37af1c81"
      },
      "execution_count": 4,
      "outputs": [
        {
          "output_type": "stream",
          "name": "stdout",
          "text": [
            "Transaction 1: ['Bread', 'Apples']\n",
            "Transaction 2: ['Butter', 'Apples']\n",
            "Transaction 3: ['Butter', 'Juice', 'Milk', 'Cereal', 'Apples']\n",
            "Transaction 4: ['Milk', 'Juice', 'Butter']\n",
            "Transaction 5: ['Milk', 'Butter', 'Cheese', 'Cereal']\n",
            "Transaction 6: ['Cheese', 'Milk', 'Butter']\n",
            "Transaction 7: ['Cheese', 'Bread']\n",
            "Transaction 8: ['Juice', 'Butter', 'Bread']\n",
            "Transaction 9: ['Cereal', 'Milk']\n",
            "Transaction 10: ['Apples', 'Juice', 'Eggs']\n"
          ]
        }
      ]
    },
    {
      "cell_type": "markdown",
      "source": [
        "### Step 2: Analyze with Apriori"
      ],
      "metadata": {
        "id": "Xu77MmDucEO6"
      }
    },
    {
      "cell_type": "code",
      "source": [
        "# One-hot encode\n",
        "te = TransactionEncoder()\n",
        "te_ary = te.fit(transactions).transform(transactions)\n",
        "df = pd.DataFrame(te_ary, columns=te.columns_)\n",
        "\n",
        "# Apply Apriori with min support = 0.3\n",
        "frequent_itemsets = apriori(df, min_support=0.3, use_colnames=True)\n",
        "print(frequent_itemsets)\n"
      ],
      "metadata": {
        "colab": {
          "base_uri": "https://localhost:8080/"
        },
        "id": "MauCSuR2cGr3",
        "outputId": "38307fb1-aba1-4b0e-f2fd-35adf95c6bd2"
      },
      "execution_count": 5,
      "outputs": [
        {
          "output_type": "stream",
          "name": "stdout",
          "text": [
            "   support         itemsets\n",
            "0      0.4         (Apples)\n",
            "1      0.3          (Bread)\n",
            "2      0.6         (Butter)\n",
            "3      0.3         (Cereal)\n",
            "4      0.3         (Cheese)\n",
            "5      0.4          (Juice)\n",
            "6      0.5           (Milk)\n",
            "7      0.3  (Butter, Juice)\n",
            "8      0.4   (Milk, Butter)\n",
            "9      0.3   (Cereal, Milk)\n"
          ]
        }
      ]
    },
    {
      "cell_type": "markdown",
      "source": [
        "#### Step 3: Generate Association Rules"
      ],
      "metadata": {
        "id": "CSeOg632dAhT"
      }
    },
    {
      "cell_type": "code",
      "source": [
        "# Generate rules\n",
        "rules = association_rules(frequent_itemsets, metric=\"confidence\", min_threshold=0.7)\n",
        "\n",
        "# Show 2 rules\n",
        "print(rules[['antecedents', 'consequents', 'support', 'confidence', 'lift']].head(2))\n",
        "\n",
        "# Explain one rule\n",
        "example_rule = rules.iloc[0]\n",
        "print(f\"\\nRule explained:\")\n",
        "print(f\"If someone buys {list(example_rule['antecedents'])}, they are likely to also buy {list(example_rule['consequents'])}.\")\n"
      ],
      "metadata": {
        "colab": {
          "base_uri": "https://localhost:8080/"
        },
        "id": "u-kG3jCRc8_T",
        "outputId": "4894965f-ff81-4710-e61b-716ef784b547"
      },
      "execution_count": 8,
      "outputs": [
        {
          "output_type": "stream",
          "name": "stdout",
          "text": [
            "  antecedents consequents  support  confidence      lift\n",
            "0     (Juice)    (Butter)      0.3        0.75  1.250000\n",
            "1      (Milk)    (Butter)      0.4        0.80  1.333333\n",
            "\n",
            "Rule explained:\n",
            "If someone buys ['Juice'], they are likely to also buy ['Butter'].\n"
          ]
        }
      ]
    }
  ]
}