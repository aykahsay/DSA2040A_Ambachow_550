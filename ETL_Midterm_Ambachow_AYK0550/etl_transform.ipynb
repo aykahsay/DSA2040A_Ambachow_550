{
 "cells": [
  {
   "cell_type": "markdown",
   "id": "429b2d93",
   "metadata": {},
   "source": [
    "### Data Transformation"
   ]
  },
  {
   "cell_type": "markdown",
   "id": "7fe27c56",
   "metadata": {},
   "source": [
    "#### Data Transformation Wrangle function"
   ]
  },
  {
   "cell_type": "code",
   "execution_count": 96,
   "id": "6e7e1477",
   "metadata": {},
   "outputs": [],
   "source": [
    "import pandas as pd\n",
    "import re\n",
    "import sqlite3"
   ]
  },
  {
   "cell_type": "code",
   "execution_count": 97,
   "id": "e86604df",
   "metadata": {},
   "outputs": [],
   "source": [
    "def wrangle_data(df):\n",
    "    df = df.copy()\n",
    "\n",
    "    # ORDER_ID\n",
    "    df = df.reset_index(drop=True)\n",
    "    df['order_id'] = df.index + 1\n",
    "\n",
    "    # CUSTOMER_NAME\n",
    "    df['customer_name'] = (\n",
    "        df['customer_name']\n",
    "        .astype(str)\n",
    "        .str.strip()\n",
    "        .str.title()\n",
    "        .replace('Nan', pd.NA)\n",
    "    )\n",
    "    df['customer_name'] = df['customer_name'].fillna('Unknown')\n",
    "    df['customer_name'] = df['customer_name'].apply(lambda x: re.sub(r'\\s+', ' ', x))\n",
    "\n",
    "    # PRODUCT\n",
    "    df['product'] = (\n",
    "        df['product']\n",
    "        .astype(str)\n",
    "        .str.strip()\n",
    "        .str.title()\n",
    "        .apply(lambda x: re.sub(r'\\s+', ' ', x))\n",
    "    )\n",
    "    mode_by_price = (\n",
    "        df[df['product'] != 'Nan']\n",
    "        .groupby('unit_price')['product']\n",
    "        .agg(lambda x: x.mode().iloc[0])\n",
    "    )\n",
    "    df['product'] = df.apply(\n",
    "        lambda row: mode_by_price.get(row['unit_price'], row['product'])\n",
    "                    if pd.isna(row['product']) else row['product'],\n",
    "        axis=1\n",
    "    )\n",
    "\n",
    "    # QUANTITY\n",
    "    df['quantity'] = pd.to_numeric(df['quantity'], errors='coerce').abs()\n",
    "    df['quantity'] = df['quantity'].fillna(\n",
    "        df.groupby('product')['quantity'].transform('median')\n",
    "    )\n",
    "    df['quantity'] = df['quantity'].fillna(\n",
    "        df.groupby('customer_name')['quantity'].transform('median')\n",
    "    )\n",
    "    df['quantity'] = df['quantity'].fillna(df['quantity'].median())\n",
    "\n",
    "    # UNIT_PRICE\n",
    "    df['unit_price'] = pd.to_numeric(df['unit_price'], errors='coerce')\n",
    "\n",
    "    def impute_unit_price(grp):\n",
    "        mode = grp.mode()\n",
    "        if not mode.empty:\n",
    "            return grp.fillna(mode.iloc[0])\n",
    "        else:\n",
    "            return grp.fillna(grp.ffill())\n",
    "\n",
    "    df['unit_price'] = df.groupby(['region', 'product'])['unit_price'].transform(impute_unit_price)\n",
    "    df['unit_price'] = df.groupby('product')['unit_price'].transform(lambda x: x.fillna(x.mode().iloc[0] if not x.mode().empty else x.ffill()))\n",
    "\n",
    "    # ORDER_DATE\n",
    "    df['order_date'] = pd.to_datetime(df['order_date'], errors='coerce')\n",
    "    df['order_date'] = df['order_date'].ffill()\n",
    "\n",
    "    # REGION\n",
    "    df['region'] = (\n",
    "        df['region']\n",
    "        .astype(str)\n",
    "        .str.strip()\n",
    "        .str.title()\n",
    "        .replace('Nan', pd.NA)\n",
    "    )\n",
    "    most_common = df['region'].mode().iloc[0]\n",
    "    df['region'] = df['region'].fillna(most_common)\n",
    "\n",
    "    # SORT BY ORDER_DATE\n",
    "    df = df.sort_values('order_date').reset_index(drop=True)\n",
    "\n",
    "    # TOTAL_PRICE\n",
    "    df['total_price'] = df['quantity'] * df['unit_price']\n",
    "\n",
    "    # PRICE_TIER\n",
    "    bins = [0, 500, 1000, 2000, float('inf')]\n",
    "    labels = ['Low', 'Medium', 'High', 'Premium']\n",
    "    df['price_tier'] = pd.cut(df['total_price'], bins=bins, labels=labels)\n",
    "\n",
    "    return df\n"
   ]
  },
  {
   "cell_type": "code",
   "execution_count": 98,
   "id": "ae8597d8",
   "metadata": {},
   "outputs": [],
   "source": [
    "# Apply wrangling\n",
    "df_full = pd.read_csv(\"data/raw_data.csv\")\n",
    "df_incremental = pd.read_csv(\"data/incremental_data.csv\")\n",
    "\n",
    "df_full_cleaned = wrangle_data(df_full)\n",
    "df_incremental_cleaned = wrangle_data(df_incremental).dropna()\n"
   ]
  },
  {
   "cell_type": "code",
   "execution_count": 99,
   "id": "6c25236c",
   "metadata": {},
   "outputs": [
    {
     "name": "stdout",
     "output_type": "stream",
     "text": [
      "<class 'pandas.core.frame.DataFrame'>\n",
      "RangeIndex: 100 entries, 0 to 99\n",
      "Data columns (total 9 columns):\n",
      " #   Column         Non-Null Count  Dtype         \n",
      "---  ------         --------------  -----         \n",
      " 0   order_id       100 non-null    int64         \n",
      " 1   customer_name  100 non-null    object        \n",
      " 2   product        100 non-null    object        \n",
      " 3   quantity       100 non-null    float64       \n",
      " 4   unit_price     100 non-null    float64       \n",
      " 5   order_date     100 non-null    datetime64[ns]\n",
      " 6   region         100 non-null    object        \n",
      " 7   total_price    100 non-null    float64       \n",
      " 8   price_tier     100 non-null    category      \n",
      "dtypes: category(1), datetime64[ns](1), float64(3), int64(1), object(3)\n",
      "memory usage: 6.7+ KB\n"
     ]
    }
   ],
   "source": [
    "df_full_cleaned.info()"
   ]
  },
  {
   "cell_type": "code",
   "execution_count": 100,
   "id": "1dcf1457",
   "metadata": {},
   "outputs": [
    {
     "name": "stdout",
     "output_type": "stream",
     "text": [
      "<class 'pandas.core.frame.DataFrame'>\n",
      "Index: 9 entries, 0 to 9\n",
      "Data columns (total 9 columns):\n",
      " #   Column         Non-Null Count  Dtype         \n",
      "---  ------         --------------  -----         \n",
      " 0   order_id       9 non-null      int64         \n",
      " 1   customer_name  9 non-null      object        \n",
      " 2   product        9 non-null      object        \n",
      " 3   quantity       9 non-null      float64       \n",
      " 4   unit_price     9 non-null      float64       \n",
      " 5   order_date     9 non-null      datetime64[ns]\n",
      " 6   region         9 non-null      object        \n",
      " 7   total_price    9 non-null      float64       \n",
      " 8   price_tier     9 non-null      category      \n",
      "dtypes: category(1), datetime64[ns](1), float64(3), int64(1), object(3)\n",
      "memory usage: 861.0+ bytes\n"
     ]
    }
   ],
   "source": [
    "df_incremental_cleaned .info()"
   ]
  },
  {
   "cell_type": "code",
   "execution_count": 91,
   "id": "4b32d0d1",
   "metadata": {},
   "outputs": [
    {
     "name": "stdout",
     "output_type": "stream",
     "text": [
      "<class 'pandas.core.frame.DataFrame'>\n",
      "Index: 9 entries, 0 to 9\n",
      "Data columns (total 9 columns):\n",
      " #   Column         Non-Null Count  Dtype         \n",
      "---  ------         --------------  -----         \n",
      " 0   order_id       9 non-null      int64         \n",
      " 1   customer_name  9 non-null      object        \n",
      " 2   product        9 non-null      object        \n",
      " 3   quantity       9 non-null      float64       \n",
      " 4   unit_price     9 non-null      float64       \n",
      " 5   order_date     9 non-null      datetime64[ns]\n",
      " 6   region         9 non-null      object        \n",
      " 7   total_price    9 non-null      float64       \n",
      " 8   price_tier     9 non-null      category      \n",
      "dtypes: category(1), datetime64[ns](1), float64(3), int64(1), object(3)\n",
      "memory usage: 861.0+ bytes\n"
     ]
    }
   ],
   "source": [
    "df_incremental_cleaned.info()"
   ]
  },
  {
   "cell_type": "markdown",
   "id": "2fe7c6f1",
   "metadata": {},
   "source": [
    "## Exploration"
   ]
  },
  {
   "cell_type": "markdown",
   "id": "ec307ff4",
   "metadata": {},
   "source": [
    "#### Order_id"
   ]
  },
  {
   "cell_type": "code",
   "execution_count": null,
   "id": "87f1c048",
   "metadata": {},
   "outputs": [],
   "source": [
    "def check_order_id(df_full):\n",
    "    result = {\n",
    "        \"total_rows\": len(df),\n",
    "        \"missing_order_id\": df['order_id'].isnull().sum(),\n",
    "        \"duplicate_order_id\": df['order_id'].duplicated().sum(),\n",
    "        \"dtype\": df['order_id'].dtype,\n",
    "        \"n_unique\": df['order_id'].nunique(),\n",
    "        \"is_monotonic_increasing\": df['order_id'].is_monotonic_increasing\n",
    "    }\n",
    "    return result\n"
   ]
  },
  {
   "cell_type": "code",
   "execution_count": null,
   "id": "0cfdce42",
   "metadata": {},
   "outputs": [
    {
     "data": {
      "text/plain": [
       "{'total_rows': 100,\n",
       " 'missing_order_id': 0,\n",
       " 'duplicate_order_id': 1,\n",
       " 'dtype': dtype('int64'),\n",
       " 'n_unique': 99,\n",
       " 'is_monotonic_increasing': False}"
      ]
     },
     "execution_count": 20,
     "metadata": {},
     "output_type": "execute_result"
    }
   ],
   "source": [
    "check_order_id(df_full)"
   ]
  },
  {
   "cell_type": "code",
   "execution_count": 21,
   "id": "086cd533",
   "metadata": {},
   "outputs": [
    {
     "name": "stdout",
     "output_type": "stream",
     "text": [
      "   order_id customer_name product  quantity  unit_price  order_date region\n",
      "3         4           Eve  Laptop       2.0       750.0  2024-01-07   West\n",
      "5         4           Eve  Laptop       2.0       750.0  2024-01-07   West\n"
     ]
    }
   ],
   "source": [
    "# Find duplicated order_id values\n",
    "duplicate_ids = df_full[df_full['order_id'].duplicated(keep=False)]\n",
    "\n",
    "# Show the rows with those duplicate IDs\n",
    "print(duplicate_ids.sort_values('order_id'))\n"
   ]
  },
  {
   "cell_type": "code",
   "execution_count": 22,
   "id": "071c52ca",
   "metadata": {},
   "outputs": [],
   "source": [
    "# --- ORDER_ID ---\n",
    "df_full= df_full.reset_index(drop=True)\n",
    "df_full['order_id'] = df_full.index + 1  # Reassign to strict sequence"
   ]
  },
  {
   "cell_type": "markdown",
   "id": "3ccd1d7d",
   "metadata": {},
   "source": [
    "#### customer_name\n",
    "Checks for customer_name\n",
    "\n",
    "    Missing values\n",
    "    → Identify and decide whether to impute (e.g., \"Unknown\") or drop.\n",
    "\n",
    "    Whitespace / Formatting issues\n",
    "    → Remove leading/trailing spaces; standardize case.\n",
    "\n",
    "    Inconsistent casing\n",
    "    → Example: john doe, JOHN DOE, John Doe → all should be John Doe.\n",
    "\n",
    "    Unexpected entries / typos\n",
    "    → Optional: flag extremely short names (len(name) < 2) or numeric entries.\n",
    "\n",
    "    Duplicates (optional)\n",
    "    → If two names are slightly different but clearly same customer (e.g., Jon Smith, John Smith), flag for review."
   ]
  },
  {
   "cell_type": "code",
   "execution_count": 47,
   "id": "7c115b1b",
   "metadata": {},
   "outputs": [
    {
     "name": "stdout",
     "output_type": "stream",
     "text": [
      "Missing: 1\n",
      "Unique: 6\n",
      "['Diana' 'Eve' 'Charlie' nan 'Frank' 'Bob' 'Alice']\n"
     ]
    },
    {
     "data": {
      "application/vnd.microsoft.datawrangler.viewer.v0+json": {
       "columns": [
        {
         "name": "index",
         "rawType": "int64",
         "type": "integer"
        },
        {
         "name": "order_id",
         "rawType": "int64",
         "type": "integer"
        },
        {
         "name": "customer_name",
         "rawType": "object",
         "type": "string"
        },
        {
         "name": "product",
         "rawType": "object",
         "type": "string"
        },
        {
         "name": "quantity",
         "rawType": "float64",
         "type": "float"
        },
        {
         "name": "unit_price",
         "rawType": "float64",
         "type": "float"
        },
        {
         "name": "order_date",
         "rawType": "object",
         "type": "string"
        },
        {
         "name": "region",
         "rawType": "object",
         "type": "string"
        }
       ],
       "ref": "388aca62-6421-45ee-bcf6-975a7e54a6ed",
       "rows": [],
       "shape": {
        "columns": 7,
        "rows": 0
       }
      },
      "text/html": [
       "<div>\n",
       "<style scoped>\n",
       "    .dataframe tbody tr th:only-of-type {\n",
       "        vertical-align: middle;\n",
       "    }\n",
       "\n",
       "    .dataframe tbody tr th {\n",
       "        vertical-align: top;\n",
       "    }\n",
       "\n",
       "    .dataframe thead th {\n",
       "        text-align: right;\n",
       "    }\n",
       "</style>\n",
       "<table border=\"1\" class=\"dataframe\">\n",
       "  <thead>\n",
       "    <tr style=\"text-align: right;\">\n",
       "      <th></th>\n",
       "      <th>order_id</th>\n",
       "      <th>customer_name</th>\n",
       "      <th>product</th>\n",
       "      <th>quantity</th>\n",
       "      <th>unit_price</th>\n",
       "      <th>order_date</th>\n",
       "      <th>region</th>\n",
       "    </tr>\n",
       "  </thead>\n",
       "  <tbody>\n",
       "  </tbody>\n",
       "</table>\n",
       "</div>"
      ],
      "text/plain": [
       "Empty DataFrame\n",
       "Columns: [order_id, customer_name, product, quantity, unit_price, order_date, region]\n",
       "Index: []"
      ]
     },
     "execution_count": 47,
     "metadata": {},
     "output_type": "execute_result"
    }
   ],
   "source": [
    "# Missing values\n",
    "print(\"Missing:\", df_full['customer_name'].isnull().sum())\n",
    "\n",
    "# Unique names\n",
    "print(\"Unique:\", df_full['customer_name'].nunique())\n",
    "\n",
    "# Example values\n",
    "print(df_full['customer_name'].unique()[:10])\n",
    "\n",
    "# Suspiciously short or numeric-only names\n",
    "df_full[df_full['customer_name'].str.strip().str.len() < 2]\n"
   ]
  },
  {
   "cell_type": "code",
   "execution_count": null,
   "id": "d416e65c",
   "metadata": {},
   "outputs": [
    {
     "name": "stderr",
     "output_type": "stream",
     "text": [
      "C:\\Users\\Admin\\AppData\\Local\\Temp\\ipykernel_12236\\2425363892.py:6: UserWarning: Pandas doesn't allow columns to be created via a new attribute name - see https://pandas.pydata.org/pandas-docs/stable/indexing.html#attribute-access\n",
      "  df_full_sorted.missing_rows = df_full_sorted[df_full_sorted['customer_name'].isnull()]\n"
     ]
    },
    {
     "data": {
      "application/vnd.microsoft.datawrangler.viewer.v0+json": {
       "columns": [
        {
         "name": "index",
         "rawType": "int64",
         "type": "integer"
        },
        {
         "name": "order_id",
         "rawType": "int64",
         "type": "integer"
        },
        {
         "name": "customer_name",
         "rawType": "object",
         "type": "unknown"
        },
        {
         "name": "product",
         "rawType": "object",
         "type": "string"
        },
        {
         "name": "quantity",
         "rawType": "float64",
         "type": "float"
        },
        {
         "name": "unit_price",
         "rawType": "float64",
         "type": "float"
        },
        {
         "name": "order_date",
         "rawType": "datetime64[ns]",
         "type": "datetime"
        },
        {
         "name": "region",
         "rawType": "object",
         "type": "string"
        }
       ],
       "ref": "7f24fa37-2949-4540-b1b9-0e7f43335099",
       "rows": [
        [
         "3",
         "4",
         "Eve",
         "Laptop",
         "2.0",
         "750.0",
         "2024-01-07 00:00:00",
         "West"
        ],
        [
         "5",
         "4",
         "Eve",
         "Laptop",
         "2.0",
         "750.0",
         "2024-01-07 00:00:00",
         "West"
        ],
        [
         "90",
         "91",
         "Bob",
         "Phone",
         "2.0",
         null,
         "2024-01-09 00:00:00",
         "West"
        ],
        [
         "40",
         "41",
         "Alice",
         "Monitor",
         "1.0",
         "250.0",
         "2024-01-17 00:00:00",
         "West"
        ],
        [
         "67",
         "68",
         "Diana",
         "Monitor",
         "1.0",
         null,
         "2024-01-18 00:00:00",
         "West"
        ],
        [
         "35",
         "36",
         "Frank",
         "Phone",
         "3.0",
         "750.0",
         "2024-01-19 00:00:00",
         "West"
        ],
        [
         "25",
         "26",
         "Eve",
         "Monitor",
         "3.0",
         "750.0",
         "2024-01-21 00:00:00",
         "West"
        ],
        [
         "76",
         "77",
         "Bob",
         "Tablet",
         null,
         "750.0",
         "2024-01-24 00:00:00",
         "West"
        ],
        [
         "98",
         "99",
         "Alice",
         "Monitor",
         null,
         "250.0",
         "2024-01-26 00:00:00",
         "West"
        ],
        [
         "22",
         "23",
         "Diana",
         "Tablet",
         "3.0",
         "500.0",
         "2024-01-27 00:00:00",
         "West"
        ],
        [
         "78",
         "79",
         "Diana",
         "Laptop",
         null,
         "500.0",
         "2024-02-01 00:00:00",
         "West"
        ],
        [
         "6",
         "7",
         "Charlie",
         "Monitor",
         "2.0",
         "750.0",
         "2024-02-02 00:00:00",
         "West"
        ],
        [
         "37",
         "38",
         "Charlie",
         "Laptop",
         null,
         null,
         "2024-02-04 00:00:00",
         "West"
        ],
        [
         "45",
         "46",
         "Alice",
         "Tablet",
         "2.0",
         "250.0",
         "2024-02-15 00:00:00",
         "West"
        ],
        [
         "33",
         "34",
         "Diana",
         "Tablet",
         null,
         "500.0",
         "2024-03-01 00:00:00",
         "West"
        ],
        [
         "30",
         "31",
         "Charlie",
         "Phone",
         "3.0",
         "750.0",
         "2024-03-04 00:00:00",
         "West"
        ],
        [
         "82",
         "83",
         "Diana",
         "Monitor",
         "3.0",
         "250.0",
         "2024-03-06 00:00:00",
         "West"
        ],
        [
         "73",
         "74",
         "Diana",
         "Monitor",
         "2.0",
         null,
         "2024-03-07 00:00:00",
         "West"
        ],
        [
         "8",
         "9",
         "Charlie",
         "Monitor",
         null,
         "750.0",
         "2024-03-16 00:00:00",
         "West"
        ],
        [
         "52",
         "53",
         "Bob",
         "Phone",
         "1.0",
         "750.0",
         "2024-04-02 00:00:00",
         "West"
        ],
        [
         "31",
         "32",
         "Bob",
         "Laptop",
         "2.0",
         "750.0",
         "2024-04-06 00:00:00",
         "West"
        ],
        [
         "88",
         "89",
         "Eve",
         "Phone",
         null,
         "500.0",
         "2024-04-13 00:00:00",
         "West"
        ],
        [
         "29",
         "30",
         "Charlie",
         "Monitor",
         "1.0",
         "500.0",
         "2024-04-20 00:00:00",
         "West"
        ],
        [
         "10",
         "11",
         null,
         "Monitor",
         "3.0",
         "750.0",
         "2024-04-24 00:00:00",
         "West"
        ],
        [
         "12",
         "13",
         "Frank",
         "Tablet",
         "1.0",
         "750.0",
         "2024-04-28 00:00:00",
         "West"
        ]
       ],
       "shape": {
        "columns": 7,
        "rows": 25
       }
      },
      "text/html": [
       "<div>\n",
       "<style scoped>\n",
       "    .dataframe tbody tr th:only-of-type {\n",
       "        vertical-align: middle;\n",
       "    }\n",
       "\n",
       "    .dataframe tbody tr th {\n",
       "        vertical-align: top;\n",
       "    }\n",
       "\n",
       "    .dataframe thead th {\n",
       "        text-align: right;\n",
       "    }\n",
       "</style>\n",
       "<table border=\"1\" class=\"dataframe\">\n",
       "  <thead>\n",
       "    <tr style=\"text-align: right;\">\n",
       "      <th></th>\n",
       "      <th>order_id</th>\n",
       "      <th>customer_name</th>\n",
       "      <th>product</th>\n",
       "      <th>quantity</th>\n",
       "      <th>unit_price</th>\n",
       "      <th>order_date</th>\n",
       "      <th>region</th>\n",
       "    </tr>\n",
       "  </thead>\n",
       "  <tbody>\n",
       "    <tr>\n",
       "      <th>3</th>\n",
       "      <td>4</td>\n",
       "      <td>Eve</td>\n",
       "      <td>Laptop</td>\n",
       "      <td>2.0</td>\n",
       "      <td>750.0</td>\n",
       "      <td>2024-01-07</td>\n",
       "      <td>West</td>\n",
       "    </tr>\n",
       "    <tr>\n",
       "      <th>5</th>\n",
       "      <td>4</td>\n",
       "      <td>Eve</td>\n",
       "      <td>Laptop</td>\n",
       "      <td>2.0</td>\n",
       "      <td>750.0</td>\n",
       "      <td>2024-01-07</td>\n",
       "      <td>West</td>\n",
       "    </tr>\n",
       "    <tr>\n",
       "      <th>90</th>\n",
       "      <td>91</td>\n",
       "      <td>Bob</td>\n",
       "      <td>Phone</td>\n",
       "      <td>2.0</td>\n",
       "      <td>NaN</td>\n",
       "      <td>2024-01-09</td>\n",
       "      <td>West</td>\n",
       "    </tr>\n",
       "    <tr>\n",
       "      <th>40</th>\n",
       "      <td>41</td>\n",
       "      <td>Alice</td>\n",
       "      <td>Monitor</td>\n",
       "      <td>1.0</td>\n",
       "      <td>250.0</td>\n",
       "      <td>2024-01-17</td>\n",
       "      <td>West</td>\n",
       "    </tr>\n",
       "    <tr>\n",
       "      <th>67</th>\n",
       "      <td>68</td>\n",
       "      <td>Diana</td>\n",
       "      <td>Monitor</td>\n",
       "      <td>1.0</td>\n",
       "      <td>NaN</td>\n",
       "      <td>2024-01-18</td>\n",
       "      <td>West</td>\n",
       "    </tr>\n",
       "    <tr>\n",
       "      <th>35</th>\n",
       "      <td>36</td>\n",
       "      <td>Frank</td>\n",
       "      <td>Phone</td>\n",
       "      <td>3.0</td>\n",
       "      <td>750.0</td>\n",
       "      <td>2024-01-19</td>\n",
       "      <td>West</td>\n",
       "    </tr>\n",
       "    <tr>\n",
       "      <th>25</th>\n",
       "      <td>26</td>\n",
       "      <td>Eve</td>\n",
       "      <td>Monitor</td>\n",
       "      <td>3.0</td>\n",
       "      <td>750.0</td>\n",
       "      <td>2024-01-21</td>\n",
       "      <td>West</td>\n",
       "    </tr>\n",
       "    <tr>\n",
       "      <th>76</th>\n",
       "      <td>77</td>\n",
       "      <td>Bob</td>\n",
       "      <td>Tablet</td>\n",
       "      <td>NaN</td>\n",
       "      <td>750.0</td>\n",
       "      <td>2024-01-24</td>\n",
       "      <td>West</td>\n",
       "    </tr>\n",
       "    <tr>\n",
       "      <th>98</th>\n",
       "      <td>99</td>\n",
       "      <td>Alice</td>\n",
       "      <td>Monitor</td>\n",
       "      <td>NaN</td>\n",
       "      <td>250.0</td>\n",
       "      <td>2024-01-26</td>\n",
       "      <td>West</td>\n",
       "    </tr>\n",
       "    <tr>\n",
       "      <th>22</th>\n",
       "      <td>23</td>\n",
       "      <td>Diana</td>\n",
       "      <td>Tablet</td>\n",
       "      <td>3.0</td>\n",
       "      <td>500.0</td>\n",
       "      <td>2024-01-27</td>\n",
       "      <td>West</td>\n",
       "    </tr>\n",
       "    <tr>\n",
       "      <th>78</th>\n",
       "      <td>79</td>\n",
       "      <td>Diana</td>\n",
       "      <td>Laptop</td>\n",
       "      <td>NaN</td>\n",
       "      <td>500.0</td>\n",
       "      <td>2024-02-01</td>\n",
       "      <td>West</td>\n",
       "    </tr>\n",
       "    <tr>\n",
       "      <th>6</th>\n",
       "      <td>7</td>\n",
       "      <td>Charlie</td>\n",
       "      <td>Monitor</td>\n",
       "      <td>2.0</td>\n",
       "      <td>750.0</td>\n",
       "      <td>2024-02-02</td>\n",
       "      <td>West</td>\n",
       "    </tr>\n",
       "    <tr>\n",
       "      <th>37</th>\n",
       "      <td>38</td>\n",
       "      <td>Charlie</td>\n",
       "      <td>Laptop</td>\n",
       "      <td>NaN</td>\n",
       "      <td>NaN</td>\n",
       "      <td>2024-02-04</td>\n",
       "      <td>West</td>\n",
       "    </tr>\n",
       "    <tr>\n",
       "      <th>45</th>\n",
       "      <td>46</td>\n",
       "      <td>Alice</td>\n",
       "      <td>Tablet</td>\n",
       "      <td>2.0</td>\n",
       "      <td>250.0</td>\n",
       "      <td>2024-02-15</td>\n",
       "      <td>West</td>\n",
       "    </tr>\n",
       "    <tr>\n",
       "      <th>33</th>\n",
       "      <td>34</td>\n",
       "      <td>Diana</td>\n",
       "      <td>Tablet</td>\n",
       "      <td>NaN</td>\n",
       "      <td>500.0</td>\n",
       "      <td>2024-03-01</td>\n",
       "      <td>West</td>\n",
       "    </tr>\n",
       "    <tr>\n",
       "      <th>30</th>\n",
       "      <td>31</td>\n",
       "      <td>Charlie</td>\n",
       "      <td>Phone</td>\n",
       "      <td>3.0</td>\n",
       "      <td>750.0</td>\n",
       "      <td>2024-03-04</td>\n",
       "      <td>West</td>\n",
       "    </tr>\n",
       "    <tr>\n",
       "      <th>82</th>\n",
       "      <td>83</td>\n",
       "      <td>Diana</td>\n",
       "      <td>Monitor</td>\n",
       "      <td>3.0</td>\n",
       "      <td>250.0</td>\n",
       "      <td>2024-03-06</td>\n",
       "      <td>West</td>\n",
       "    </tr>\n",
       "    <tr>\n",
       "      <th>73</th>\n",
       "      <td>74</td>\n",
       "      <td>Diana</td>\n",
       "      <td>Monitor</td>\n",
       "      <td>2.0</td>\n",
       "      <td>NaN</td>\n",
       "      <td>2024-03-07</td>\n",
       "      <td>West</td>\n",
       "    </tr>\n",
       "    <tr>\n",
       "      <th>8</th>\n",
       "      <td>9</td>\n",
       "      <td>Charlie</td>\n",
       "      <td>Monitor</td>\n",
       "      <td>NaN</td>\n",
       "      <td>750.0</td>\n",
       "      <td>2024-03-16</td>\n",
       "      <td>West</td>\n",
       "    </tr>\n",
       "    <tr>\n",
       "      <th>52</th>\n",
       "      <td>53</td>\n",
       "      <td>Bob</td>\n",
       "      <td>Phone</td>\n",
       "      <td>1.0</td>\n",
       "      <td>750.0</td>\n",
       "      <td>2024-04-02</td>\n",
       "      <td>West</td>\n",
       "    </tr>\n",
       "    <tr>\n",
       "      <th>31</th>\n",
       "      <td>32</td>\n",
       "      <td>Bob</td>\n",
       "      <td>Laptop</td>\n",
       "      <td>2.0</td>\n",
       "      <td>750.0</td>\n",
       "      <td>2024-04-06</td>\n",
       "      <td>West</td>\n",
       "    </tr>\n",
       "    <tr>\n",
       "      <th>88</th>\n",
       "      <td>89</td>\n",
       "      <td>Eve</td>\n",
       "      <td>Phone</td>\n",
       "      <td>NaN</td>\n",
       "      <td>500.0</td>\n",
       "      <td>2024-04-13</td>\n",
       "      <td>West</td>\n",
       "    </tr>\n",
       "    <tr>\n",
       "      <th>29</th>\n",
       "      <td>30</td>\n",
       "      <td>Charlie</td>\n",
       "      <td>Monitor</td>\n",
       "      <td>1.0</td>\n",
       "      <td>500.0</td>\n",
       "      <td>2024-04-20</td>\n",
       "      <td>West</td>\n",
       "    </tr>\n",
       "    <tr>\n",
       "      <th>10</th>\n",
       "      <td>11</td>\n",
       "      <td>NaN</td>\n",
       "      <td>Monitor</td>\n",
       "      <td>3.0</td>\n",
       "      <td>750.0</td>\n",
       "      <td>2024-04-24</td>\n",
       "      <td>West</td>\n",
       "    </tr>\n",
       "    <tr>\n",
       "      <th>12</th>\n",
       "      <td>13</td>\n",
       "      <td>Frank</td>\n",
       "      <td>Tablet</td>\n",
       "      <td>1.0</td>\n",
       "      <td>750.0</td>\n",
       "      <td>2024-04-28</td>\n",
       "      <td>West</td>\n",
       "    </tr>\n",
       "  </tbody>\n",
       "</table>\n",
       "</div>"
      ],
      "text/plain": [
       "    order_id customer_name  product  quantity  unit_price order_date region\n",
       "3          4           Eve   Laptop       2.0       750.0 2024-01-07   West\n",
       "5          4           Eve   Laptop       2.0       750.0 2024-01-07   West\n",
       "90        91           Bob    Phone       2.0         NaN 2024-01-09   West\n",
       "40        41         Alice  Monitor       1.0       250.0 2024-01-17   West\n",
       "67        68         Diana  Monitor       1.0         NaN 2024-01-18   West\n",
       "35        36         Frank    Phone       3.0       750.0 2024-01-19   West\n",
       "25        26           Eve  Monitor       3.0       750.0 2024-01-21   West\n",
       "76        77           Bob   Tablet       NaN       750.0 2024-01-24   West\n",
       "98        99         Alice  Monitor       NaN       250.0 2024-01-26   West\n",
       "22        23         Diana   Tablet       3.0       500.0 2024-01-27   West\n",
       "78        79         Diana   Laptop       NaN       500.0 2024-02-01   West\n",
       "6          7       Charlie  Monitor       2.0       750.0 2024-02-02   West\n",
       "37        38       Charlie   Laptop       NaN         NaN 2024-02-04   West\n",
       "45        46         Alice   Tablet       2.0       250.0 2024-02-15   West\n",
       "33        34         Diana   Tablet       NaN       500.0 2024-03-01   West\n",
       "30        31       Charlie    Phone       3.0       750.0 2024-03-04   West\n",
       "82        83         Diana  Monitor       3.0       250.0 2024-03-06   West\n",
       "73        74         Diana  Monitor       2.0         NaN 2024-03-07   West\n",
       "8          9       Charlie  Monitor       NaN       750.0 2024-03-16   West\n",
       "52        53           Bob    Phone       1.0       750.0 2024-04-02   West\n",
       "31        32           Bob   Laptop       2.0       750.0 2024-04-06   West\n",
       "88        89           Eve    Phone       NaN       500.0 2024-04-13   West\n",
       "29        30       Charlie  Monitor       1.0       500.0 2024-04-20   West\n",
       "10        11           NaN  Monitor       3.0       750.0 2024-04-24   West\n",
       "12        13         Frank   Tablet       1.0       750.0 2024-04-28   West"
      ]
     },
     "execution_count": 53,
     "metadata": {},
     "output_type": "execute_result"
    }
   ],
   "source": [
    "# Ensure order_date is datetime\n",
    "df_full['order_date'] = pd.to_datetime(df_full['order_date'], errors='coerce')\n",
    "\n",
    "# Sort by order_date ascending\n",
    "df_full_sorted = df_full.sort_values('order_date')\n",
    "df_full_sorted.missing_rows = df_full_sorted[df_full_sorted['customer_name'].isnull()]"
   ]
  },
  {
   "cell_type": "code",
   "execution_count": 54,
   "id": "22fd04a6",
   "metadata": {},
   "outputs": [
    {
     "name": "stdout",
     "output_type": "stream",
     "text": [
      "    order_id customer_name  product  quantity  unit_price order_date region\n",
      "25        26           Eve  Monitor       3.0       750.0 2024-01-21   West\n",
      "82        83         Diana  Monitor       3.0       250.0 2024-03-06   West\n",
      "10        11           NaN  Monitor       3.0       750.0 2024-04-24   West\n"
     ]
    }
   ],
   "source": [
    "# Assuming df_full_sorted is already your cleaned, sorted DataFrame\n",
    "result = df_full_sorted[\n",
    "    (df_full_sorted['region'] == 'West') &\n",
    "    (df_full_sorted['product'] == 'Monitor') &\n",
    "    (df_full_sorted['quantity'] == 3)\n",
    "]\n",
    "\n",
    "print(result)\n"
   ]
  },
  {
   "cell_type": "code",
   "execution_count": 51,
   "id": "a7d830c4",
   "metadata": {},
   "outputs": [
    {
     "name": "stdout",
     "output_type": "stream",
     "text": [
      "Missing row(s):\n",
      "    order_id customer_name  product  quantity  unit_price  order_date region\n",
      "10        11           NaN  Monitor       3.0       750.0  2024-04-24   West\n"
     ]
    },
    {
     "name": "stderr",
     "output_type": "stream",
     "text": [
      "C:\\Users\\Admin\\AppData\\Local\\Temp\\ipykernel_12236\\2337048187.py:6: UserWarning: Pandas doesn't allow columns to be created via a new attribute name - see https://pandas.pydata.org/pandas-docs/stable/indexing.html#attribute-access\n",
      "  df_full_sorted.missing_rows = df_full_sorted[df_full_sorted['customer_name'].isnull()]\n"
     ]
    }
   ],
   "source": [
    "# Ensure order_date is datetime\n",
    "df_full['order_date'] = pd.to_datetime(df_full['order_date'], errors='coerce')\n",
    "\n",
    "# Sort by order_date ascending\n",
    "df_full_sorted = df_full.sort_values('order_date')\n",
    "df_full_sorted.missing_rows = df_full_sorted[df_full_sorted['customer_name'].isnull()]\n",
    "print(\"Missing row(s):\")\n",
    "print(missing_rows)"
   ]
  },
  {
   "cell_type": "code",
   "execution_count": 26,
   "id": "5daf68cb",
   "metadata": {},
   "outputs": [],
   "source": [
    "# Data cleaning\n",
    "df_full['customer_name'] = df_full['customer_name'].str.strip().str.title()\n",
    "df_full['customer_name'] = df_full['customer_name'].fillna('Unknown')\n"
   ]
  },
  {
   "cell_type": "code",
   "execution_count": 31,
   "id": "fcd8391e",
   "metadata": {},
   "outputs": [
    {
     "name": "stdout",
     "output_type": "stream",
     "text": [
      "Missing: 0\n",
      "Unique: 7\n",
      "['Diana' 'Eve' 'Charlie' 'Unknown' 'Frank' 'Bob' 'Alice']\n"
     ]
    },
    {
     "data": {
      "application/vnd.microsoft.datawrangler.viewer.v0+json": {
       "columns": [
        {
         "name": "index",
         "rawType": "int64",
         "type": "integer"
        },
        {
         "name": "order_id",
         "rawType": "int64",
         "type": "integer"
        },
        {
         "name": "customer_name",
         "rawType": "object",
         "type": "string"
        },
        {
         "name": "product",
         "rawType": "object",
         "type": "string"
        },
        {
         "name": "quantity",
         "rawType": "float64",
         "type": "float"
        },
        {
         "name": "unit_price",
         "rawType": "float64",
         "type": "float"
        },
        {
         "name": "order_date",
         "rawType": "object",
         "type": "string"
        },
        {
         "name": "region",
         "rawType": "object",
         "type": "string"
        }
       ],
       "ref": "cf413e3e-89a7-4e63-a7d0-e1ae51793bd4",
       "rows": [],
       "shape": {
        "columns": 7,
        "rows": 0
       }
      },
      "text/html": [
       "<div>\n",
       "<style scoped>\n",
       "    .dataframe tbody tr th:only-of-type {\n",
       "        vertical-align: middle;\n",
       "    }\n",
       "\n",
       "    .dataframe tbody tr th {\n",
       "        vertical-align: top;\n",
       "    }\n",
       "\n",
       "    .dataframe thead th {\n",
       "        text-align: right;\n",
       "    }\n",
       "</style>\n",
       "<table border=\"1\" class=\"dataframe\">\n",
       "  <thead>\n",
       "    <tr style=\"text-align: right;\">\n",
       "      <th></th>\n",
       "      <th>order_id</th>\n",
       "      <th>customer_name</th>\n",
       "      <th>product</th>\n",
       "      <th>quantity</th>\n",
       "      <th>unit_price</th>\n",
       "      <th>order_date</th>\n",
       "      <th>region</th>\n",
       "    </tr>\n",
       "  </thead>\n",
       "  <tbody>\n",
       "  </tbody>\n",
       "</table>\n",
       "</div>"
      ],
      "text/plain": [
       "Empty DataFrame\n",
       "Columns: [order_id, customer_name, product, quantity, unit_price, order_date, region]\n",
       "Index: []"
      ]
     },
     "execution_count": 31,
     "metadata": {},
     "output_type": "execute_result"
    }
   ],
   "source": [
    "# Missing values\n",
    "print(\"Missing:\", df_full['customer_name'].isnull().sum())\n",
    "\n",
    "# Unique names\n",
    "print(\"Unique:\", df_full['customer_name'].nunique())\n",
    "\n",
    "df_full[df_full['customer_name'].astype(str).str.match(r'^\\s') | df['customer_name'].astype(str).str.match(r'.*\\s$')]\n",
    "\n",
    "# Example values\n",
    "print(df_full['customer_name'].unique()[:10])\n",
    "\n",
    "# Suspiciously short or numeric-only names\n",
    "df_full[df_full['customer_name'].str.strip().str.len() < 2]\n"
   ]
  },
  {
   "cell_type": "markdown",
   "id": "4e0d219a",
   "metadata": {},
   "source": [
    "### Product\n",
    "Checks for product\n",
    "\n",
    "    Missing values\n",
    "    → Shouldn’t be missing — decide to drop or impute (e.g., \"Unknown Product\" or based on unit_price if possible).\n",
    "\n",
    "    Whitespace / formatting issues\n",
    "    → Strip spaces, standardize capitalization.\n",
    "\n",
    "    Casing inconsistencies\n",
    "    → Example: \"pc\", \"Laptop\" → standardize to \"Laptop\".\n",
    "\n",
    "    Typos or inconsistencies (optional)\n",
    "    → Detect near-duplicates (e.g., \"Laptop\" vs \"Lapt0p\").\n",
    "\n",
    "    Duplicate logic\n",
    "    → Two products with the same name but wildly different unit_price may suggest a mismatch."
   ]
  },
  {
   "cell_type": "code",
   "execution_count": 104,
   "id": "8b7583d6",
   "metadata": {},
   "outputs": [
    {
     "name": "stdout",
     "output_type": "stream",
     "text": [
      "Missing: 0\n",
      "Unique: 4\n",
      "Empty DataFrame\n",
      "Columns: [order_id, customer_name, product, quantity, unit_price, order_date, region]\n",
      "Index: []\n",
      "['Tablet' 'Laptop' 'Monitor' 'Phone']\n"
     ]
    }
   ],
   "source": [
    "# Missing values\n",
    "print(\"Missing:\", df_full['product'].isnull().sum())\n",
    "\n",
    "# Unique products\n",
    "print(\"Unique:\", df_full['product'].nunique())\n",
    "# For product\n",
    "mask = df_full['product'] != df_full['product'].str.strip()\n",
    "print(df_full[mask])\n",
    "# For product column\n",
    "df_full[df_full['product'].astype(str).str.match(r'^\\s') | df_full['product'].astype(str).str.match(r'.*\\s$')]\n",
    "\n",
    "# Sample values\n",
    "print(df_full['product'].dropna().unique()[:10])\n"
   ]
  },
  {
   "cell_type": "markdown",
   "id": "9b6bc5d3",
   "metadata": {},
   "source": [
    "### Quantity"
   ]
  },
  {
   "cell_type": "code",
   "execution_count": 32,
   "id": "eb62c64a",
   "metadata": {},
   "outputs": [
    {
     "name": "stdout",
     "output_type": "stream",
     "text": [
      "Missing: 26\n",
      "count    74.000000\n",
      "mean      1.959459\n",
      "std       0.818271\n",
      "min       1.000000\n",
      "25%       1.000000\n",
      "50%       2.000000\n",
      "75%       3.000000\n",
      "max       3.000000\n",
      "Name: quantity, dtype: float64\n",
      "float64\n"
     ]
    }
   ],
   "source": [
    "# Check for missing\n",
    "print(\"Missing:\", df_full['quantity'].isnull().sum())\n",
    "\n",
    "# Summary stats\n",
    "print(df_full['quantity'].describe())\n",
    "\n",
    "# Negative values\n",
    "df_full[df_full['quantity'] < 0]\n",
    "\n",
    "# Data type\n",
    "print(df_full['quantity'].dtype)\n"
   ]
  },
  {
   "cell_type": "code",
   "execution_count": 57,
   "id": "ec13ef3f",
   "metadata": {},
   "outputs": [],
   "source": [
    "# Step 1: Product-level median (most specific)\n",
    "df_full['quantity'] = df_full['quantity'].fillna(df_full.groupby('product')['quantity'].transform('median'))\n",
    "\n",
    "# Step 2: Customer-level median (if product was missing)\n",
    "df_full['quantity'] = df_full['quantity'].fillna(df_full.groupby('customer_name')['quantity'].transform('median'))\n",
    "\n",
    "# Step 3: Global median (final fallback)\n",
    "df_full['quantity'] = df_full['quantity'].fillna(df_full['quantity'].median())\n"
   ]
  },
  {
   "cell_type": "markdown",
   "id": "424bb181",
   "metadata": {},
   "source": [
    "### Region"
   ]
  },
  {
   "cell_type": "code",
   "execution_count": 58,
   "id": "0c27f831",
   "metadata": {},
   "outputs": [
    {
     "name": "stdout",
     "output_type": "stream",
     "text": [
      "Missing values in 'region': 25\n",
      "\n",
      "Value counts for 'region':\n",
      "region\n",
      "South    26\n",
      "NaN      25\n",
      "West     25\n",
      "North    15\n",
      "East      9\n",
      "Name: count, dtype: int64\n",
      "\n",
      "Invalid region values found: set()\n",
      "\n",
      "Regions with whitespace issues:\n",
      "[]\n",
      "\n",
      "Duplicate whitespace check (should match above):\n",
      "[]\n"
     ]
    }
   ],
   "source": [
    "# 1. Print count of missing values in 'region'\n",
    "print(\"Missing values in 'region':\", df_full['region'].isnull().sum())\n",
    "\n",
    "# 2. Print value counts (including NaN)\n",
    "print(\"\\nValue counts for 'region':\")\n",
    "print(df_full['region'].value_counts(dropna=False))\n",
    "\n",
    "# 3. Check for invalid region values\n",
    "valid = {'North', 'South', 'East', 'West'}\n",
    "invalid_regions = set(df_full['region'].dropna().unique()) - valid\n",
    "print(\"\\nInvalid region values found:\", invalid_regions)\n",
    "\n",
    "# 4. Check for leading/trailing whitespace\n",
    "mask = df_full['region'].astype(str).str.match(r'^\\s') | df_full['region'].astype(str).str.match(r'.*\\s$')\n",
    "print(\"\\nRegions with whitespace issues:\")\n",
    "print(df_full.loc[mask, 'region'].unique())\n",
    "\n",
    "# 5. (Repeated check for consistency)\n",
    "mask = df_full['region'].astype(str).str.match(r'^\\s') | df_full['region'].astype(str).str.match(r'.*\\s$')\n",
    "print(\"\\nDuplicate whitespace check (should match above):\")\n",
    "print(df_full.loc[mask, 'region'].unique())"
   ]
  },
  {
   "cell_type": "markdown",
   "id": "fbaebb6c",
   "metadata": {},
   "source": [
    "### Unit Price"
   ]
  },
  {
   "cell_type": "code",
   "execution_count": 103,
   "id": "a578cfb2",
   "metadata": {},
   "outputs": [
    {
     "name": "stdout",
     "output_type": "stream",
     "text": [
      "Data type of unit_price: float64\n",
      "\n",
      "Missing values: 35\n",
      "Negative values: 0\n",
      "Zero values: 0\n",
      "\n",
      "Unique prices: [500. 250. 750.]\n",
      "\n",
      "Unique unit prices per product:\n",
      "product\n",
      "Laptop     3\n",
      "Monitor    3\n",
      "Phone      3\n",
      "Tablet     3\n",
      "Name: unit_price, dtype: int64\n"
     ]
    }
   ],
   "source": [
    "# 1. Data type\n",
    "print(\"Data type of unit_price:\", df_full['unit_price'].dtype)\n",
    "\n",
    "\n",
    "# 2. Count of missing values\n",
    "print(\"\\nMissing values:\", df_full['unit_price'].isnull().sum())\n",
    "\n",
    "# 3. Count of negative values\n",
    "print(\"Negative values:\", (df_full['unit_price'] < 0).sum())\n",
    "\n",
    "# 4. Count of zero values (if any)\n",
    "print(\"Zero values:\", (df_full['unit_price'] == 0).sum())\n",
    "\n",
    "# 5. Unique values (optional for small datasets)\n",
    "print(\"\\nUnique prices:\", df_full['unit_price'].dropna().unique())\n",
    "\n",
    "# 6. Number of unique prices per product\n",
    "print(\"\\nUnique unit prices per product:\")\n",
    "print(df_full.groupby('product')['unit_price'].nunique())\n"
   ]
  },
  {
   "cell_type": "code",
   "execution_count": 102,
   "id": "b5aa5501",
   "metadata": {},
   "outputs": [
    {
     "name": "stdout",
     "output_type": "stream",
     "text": [
      "Region-Product Price Analysis:\n",
      "\n",
      "Region: South\n",
      "product\n",
      "Laptop                   [nan, 250.0]\n",
      "Monitor                  [nan, 750.0]\n",
      "Phone                    [nan, 250.0]\n",
      "Tablet     [500.0, nan, 250.0, 750.0]\n",
      "Name: unit_price, dtype: object\n",
      "\n",
      "Region: North\n",
      "product\n",
      "Laptop     [nan, 250.0, 500.0]\n",
      "Monitor                [500.0]\n",
      "Phone             [750.0, nan]\n",
      "Tablet     [nan, 250.0, 750.0]\n",
      "Name: unit_price, dtype: object\n",
      "\n",
      "Region: West\n",
      "product\n",
      "Laptop            [750.0, nan, 500.0]\n",
      "Monitor    [750.0, 500.0, 250.0, nan]\n",
      "Phone             [750.0, 500.0, nan]\n",
      "Tablet          [750.0, 500.0, 250.0]\n",
      "Name: unit_price, dtype: object\n",
      "\n",
      "Region: East\n",
      "product\n",
      "Laptop     [250.0, 500.0]\n",
      "Monitor      [750.0, nan]\n",
      "Phone               [nan]\n",
      "Tablet       [750.0, nan]\n",
      "Name: unit_price, dtype: object\n"
     ]
    }
   ],
   "source": [
    "# Step 1: Analyze region-product price distribution\n",
    "print(\"Region-Product Price Analysis:\")\n",
    "for region in df_full[\"region\"].dropna().unique():\n",
    "    print(f\"\\nRegion: {region}\")\n",
    "    region_data = df_full[df_full[\"region\"] == region]\n",
    "    print(region_data.groupby(\"product\")[\"unit_price\"].unique())\n"
   ]
  },
  {
   "cell_type": "code",
   "execution_count": 106,
   "id": "8138d578",
   "metadata": {},
   "outputs": [
    {
     "data": {
      "image/png": "[encoded data removed]",
      "text/plain": [
       "<Figure size 1200x600 with 1 Axes>"
      ]
     },
     "metadata": {},
     "output_type": "display_data"
    }
   ],
   "source": [
    "import matplotlib.pyplot as plt\n",
    "import seaborn as sns\n",
    "\n",
    "# Ensure numeric unit_price and clean data\n",
    "df_full['unit_price'] = pd.to_numeric(df['unit_price'], errors='coerce')\n",
    "df_full = df.dropna(subset=['unit_price', 'product', 'region'])\n",
    "\n",
    "# Plot\n",
    "plt.figure(figsize=(12, 6))\n",
    "sns.boxplot(data=df, x=\"product\", y=\"unit_price\", hue=\"region\", palette=\"Set2\")\n",
    "\n",
    "plt.title(\"Unit Price Distribution by Product and Region\", fontsize=14)\n",
    "plt.ylabel(\"Unit Price\")\n",
    "plt.xlabel(\"Product\")\n",
    "plt.legend(title=\"Region\", bbox_to_anchor=(1.05, 1), loc='upper left')\n",
    "plt.grid(axis='y', linestyle='--', alpha=0.7)\n",
    "plt.tight_layout()\n",
    "\n",
    "plt.show()\n"
   ]
  }
 ],
 "metadata": {
  "kernelspec": {
   "display_name": "Python 3",
   "language": "python",
   "name": "python3"
  },
  "language_info": {
   "codemirror_mode": {
    "name": "ipython",
    "version": 3
   },
   "file_extension": ".py",
   "mimetype": "text/x-python",
   "name": "python",
   "nbconvert_exporter": "python",
   "pygments_lexer": "ipython3",
   "version": "3.11.8"
  }
 },
 "nbformat": 4,
 "nbformat_minor": 5
}
